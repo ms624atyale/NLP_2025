{
  "nbformat": 4,
  "nbformat_minor": 0,
  "metadata": {
    "colab": {
      "provenance": [],
      "authorship_tag": "ABX9TyNZKulYhpolkIGJzq3ifVVd",
      "include_colab_link": true
    },
    "kernelspec": {
      "name": "python3",
      "display_name": "Python 3"
    },
    "language_info": {
      "name": "python"
    }
  },
  "cells": [
    {
      "cell_type": "markdown",
      "metadata": {
        "id": "view-in-github",
        "colab_type": "text"
      },
      "source": [
        "<a href=\"https://colab.research.google.com/github/ms624atyale/NLP_PictureBook_2025/blob/main/9_Token_CleanFunction_Lemma_PBL.ipynb\" target=\"_parent\"><img src=\"https://colab.research.google.com/assets/colab-badge.svg\" alt=\"Open In Colab\"/></a>"
      ]
    },
    {
      "cell_type": "markdown",
      "source": [
        "# 📖  Tokenization\n",
        "### 1️⃣ Sentence tokenization (문장 토큰화) or Sentence segmentation ( 문장 분류)⤵️\n",
        "\n",
        "* 코퍼스 내에서 문장 단위로 구분은 문장 구분자 (\"!\", \"?\", \".\")를 주로 사용하면 문장 예측을 할 수 있음.\n",
        "* \".\"의 예외가 되는 여러 가능성 존재 (e.g., IP 192.168.56.31, email account python@gmail.com, Ph.D, etc.)\n",
        "* 개별 언어 특수성, 특수 문자 사용, 혹은 오타 때문에 규칙을 찾아내기 어려운 점이 있음.\n",
        "* NLTK 페키지 안에서 sent_tokenize() 함수 사용\n",
        "\n",
        ">\n",
        "### 2️⃣ Small-unit tokenization ⤵️\n",
        "\n",
        "* **Corpus data (e.g., crawling) should be <font color = 'red'> preprocessed </font> before further analysis by means of <font color = 'red'> Cleaning(정제), Tokenization(토큰화), & Normalization(정규화)**.\n",
        ">\n",
        "* Simplest tokenization: 구두점 지운 후 띄어쓰기(whitespace)를 기준으로 잘라내기\n",
        ">\n",
        "* [**English Tokenization**](https://wikidocs.net/21698)\n",
        "\n",
        "  - <font color = 'red'> **Cleaning**</font>\n",
        "    * 구두점(punctuation (e.g., \".\", \",\", \"?\", \"!\", \";\", \":\")을 지우기\n",
        "    * 특수문자 지우기\n",
        "    * line 표시 등도 정제 가능\n",
        "\n",
        "  - <font color = 'red'> **Tokenization**</font>\n",
        "\n",
        "    * Tokenization: 주어진 코퍼스(corpus)에서 토큰(token)이라 불리는 단위 (e.g., word, phrase, strings with meaning)로 나누는 작업\n",
        "    * 토큰의 단위가 상황에 따라 다르지만, 보통 의미있는 단위로 토큰을 정의합니다.\n",
        "    * apostrophe, hyphen 등은 Tokenize 용도로 사용하는 함수의 특성에 따라 다양한 방식으로 토큰에 포함시키기도 하고 삭제하기도 한다.    \n",
        "\n",
        "  - <font color = 'red'> **Normalization**</font>\n",
        "    * Stemming: am → 'am', having → 'hav'\n",
        "    * Lemmatization: am → 'be', having → 'have'"
      ],
      "metadata": {
        "id": "XIJItu-tOFaf"
      }
    },
    {
      "cell_type": "markdown",
      "source": [
        "### More about <font color = 'red'> **Normalization**\n",
        "* [Stemming and lemmatization](https://nlp.stanford.edu/IR-book/html/htmledition/stemming-and-lemmatization-1.html)\n",
        "\n",
        "The goal of both stemming and lemmatization is to reduce **inflectional** forms and sometimes **derivationally** related forms of a word to a **common base form**.\n",
        "\n",
        "organize (vt)\n",
        "\n",
        "|Inflection|base|grammatical functions|derived forms|\n",
        "|:--|--|--|--|\n",
        "|1.|orgaize(vt.)|3rd per. sg| orgaizes|\n",
        "|2.||progressive| orgaizing|\n",
        "|3.||past | orgaized|\n",
        "|4.||past participle|orgaized|\n",
        "\n",
        "[Table2] car (noun)\n",
        "\n",
        "|Inflection|base|grammatical functions|derived forms|\n",
        "|:--|--|--||\n",
        "|1.|car(noun)|plural|cars|\n",
        "|2.||possessive| car's|\n",
        "\n",
        "[Table3] big (adjective)\n",
        "\n",
        "|Inflection|base|grammatical functions|derived forms|\n",
        "|:--|--|--||\n",
        "|1.|big(adjective)|comparative|bigger|\n",
        "|2.||superlative| biggest|\n",
        "\n",
        "[Table4] combine (vt)\n",
        "\n",
        "|Derivation|base|grammatical category|derived forms|\n",
        "|:--|--|--||\n",
        "|1.|combine (verb)| verb| recombine|\n",
        "|1.|combine (verb)| noun| combination|\n",
        "|2.||adjective| combinational|\n",
        "\n",
        "[Table 5] be (vi)\n",
        "\n",
        "|copular be verb|base|subject-verb agreement|forms|\n",
        "|:--|--|--||\n",
        "|1.|be (verb)| 1st. sg. prsnt/past| am/was|\n",
        "|2.|| 2nd/3rd sg. & pl, prsnt/past|are/were|\n",
        "|3.||3rd. sg. prsnt/past| is/was|\n",
        "<p> </p>\n",
        "\n",
        "### Mapping of text\n",
        "\n",
        ">* The boy's cars are different colors $\\Rightarrow$\n",
        "the boy car be differ color\n",
        "\n",
        "\n",
        "- **Stemming** usually refers to a crude heuristic process that chops off the ends of words in the hope of achieving this goal correctly most of the time, and often includes the **<em>removal of derivational affixes</em>**.\n",
        "\n",
        "- **Lemmatization** usually refers to doing things properly with the use of a vocabulary and morphological analysis of words, normally aiming to **remove inflectional endings** only and to return the **base or dictionary form** of a word, which is known as the lemma.\n",
        "\n",
        "If confronted with the token 'saw', stemming might return just 's', whereas lemmatization would attempt to return either 'see'(verb) or 'saw'(noun) depending on whether the use of the token was as a verb or a noun. Linguistic processing for stemming or lemmatization is often done by an additional plug-in component to the indexing process, and a number of such components exist, both commercial and open-source. The most common algorithm for **stemming English**, and one that has repeatedly been shown to be empirically very effective, is **Porter's algorithm (Porter, 1980)**.\n",
        "\n",
        "You can use a **lemmatizer**, a tool from Natural Language Processing which does full morphological analysis to <em>accurately identify the lemma for each word</em>. <font color = 'blue'> Doing full morphological analysis produces at most very modest benefits for retrieval</font>. It is hard to say more, because either form of normalization tends not to improve English information retrieval performance in aggregate - at least not by very much. While it helps a lot for some queries, it equally hurts performance a lot for others. <font color = 'red'> Stemming increases recall while harming precision.</font>\n",
        "\n",
        ">The **Porter stemmer** stems all of the following words:\n",
        ">\n",
        ">>operate', 'operating, ' operates', ' operation', ' operative', ' operatives', ' operational'\n",
        "$\\Rightarrow$ 'oper'.\n",
        ">\n",
        "> Defect $\\Rightarrow$ We lose considerable precision on queries such as the following with Porter stemming:\n",
        ">> \"operational and research\", \"operating and system\", \"operative and dentistry\"\n",
        "\n",
        "For a case like this, moving to using a lemmatizer would not completely fix the problem because **particular inflectional forms are used in particular <font color = 'blue'>collocations</font>**: a sentence with the words operate and system is not a good match for the query operating and system. Getting better value from term normalization depends more on pragmatic issues of word use than on formal issues of linguistic morphology."
      ],
      "metadata": {
        "id": "PMNNvfJWOWy7"
      }
    },
    {
      "cell_type": "markdown",
      "source": [
        "# 📖  Tokenization\n",
        "\n",
        "### 💡 **For your information**\n",
        "\n",
        "The **'punkt'** resource is a tokenizer that is commonly used for **splitting text into individual sentences or words**. Once the 'punkt' resource is downloaded, you can proceed to use NLTK's tokenization capabilities in your code. Specifically, you can access and use the tokenizer provided by NLTK. This resource is necessary for certain NLTK functionalities, such as tokenization using the **nltk.tokenize module**."
      ],
      "metadata": {
        "id": "gZRhZIzJOgST"
      }
    },
    {
      "cell_type": "markdown",
      "source": [
        "### 🆘 What is PunktSentenceTokenizer?\n",
        "* [For more information read the original article](https://www.askpython.com/python-modules/nltk-punkt)\n",
        "\n",
        "In NLTK, PUNKT is an <font color = 'brown'> **unsupervised trainable model**</font>, which means it can be **trained on unlabeled data** (Data that has not been tagged with information identifying its characteristics, properties, or categories is referred to as unlabeled data.)\n",
        "\n",
        "It generates a list of sentences from a text by developing a model for **words that start sentences, prepositional phrases, and abbreviations** using an unsupervised technique. Without first being put to use, it has to be trained on a sizable amount of plaintext in the intended language.\n",
        "\n",
        "🚯 Caution should be taken\n",
        "* nltk.sent_tokenize를 사용할 경우, punkt 모델을 활용하여 sentence segmentation/tokenization을 진행하게 된다. <font color = 'blue'> punkt 문장 구조를 학습한 일종의 모델로, 어떤 것이 약어에 쓰이는 \".\"이고(Ex : Ph.D.), 어떤 것이 마침표인지 학습이 되어있다.</font> <font color = 'brown'> 문장을 기본적으로 마침표를 기준으로 나누되, Ph.D., Saint., Professor., 와 같은 약어(Abbreviation)는 Known abbreviation으로 학습하여 한 단어로 취급하는 방식이다.</font> 하지만 punkt model이 모든 약어를 학습하지 못했다보니, Vol. 13, Apr. 13 과 같은 표현 및 U.S. Pat. No. 134 과 같은 복잡한 약어는 Known abbreviation이 아니여서 모두 나눠져버린다."
      ],
      "metadata": {
        "id": "dHnZiXTDOlbv"
      }
    },
    {
      "cell_type": "code",
      "execution_count": 3,
      "metadata": {
        "colab": {
          "base_uri": "https://localhost:8080/"
        },
        "id": "M2LG7zrYNU97",
        "outputId": "e0b29244-c698-40ae-e5cd-c18d04a73083"
      },
      "outputs": [
        {
          "output_type": "stream",
          "name": "stdout",
          "text": [
            "Requirement already satisfied: nltk in /usr/local/lib/python3.11/dist-packages (3.9.1)\n",
            "Requirement already satisfied: click in /usr/local/lib/python3.11/dist-packages (from nltk) (8.1.8)\n",
            "Requirement already satisfied: joblib in /usr/local/lib/python3.11/dist-packages (from nltk) (1.4.2)\n",
            "Requirement already satisfied: regex>=2021.8.3 in /usr/local/lib/python3.11/dist-packages (from nltk) (2024.11.6)\n",
            "Requirement already satisfied: tqdm in /usr/local/lib/python3.11/dist-packages (from nltk) (4.67.1)\n"
          ]
        },
        {
          "output_type": "stream",
          "name": "stderr",
          "text": [
            "[nltk_data] Downloading package punkt to /root/nltk_data...\n",
            "[nltk_data]   Package punkt is already up-to-date!\n",
            "[nltk_data] Downloading package punkt_tab to /root/nltk_data...\n",
            "[nltk_data]   Unzipping tokenizers/punkt_tab.zip.\n"
          ]
        },
        {
          "output_type": "execute_result",
          "data": {
            "text/plain": [
              "True"
            ]
          },
          "metadata": {},
          "execution_count": 3
        }
      ],
      "source": [
        "#@markdown #### 🐹 **Student's Activity 0** ⤵️\n",
        "#@markdown 👀🐾 **Install <font color = 'red'> NLTK</font> package and download  <font color = 'red'> punkt </font> package.**\n",
        "!pip install nltk\n",
        "import nltk\n",
        "nltk.download('punkt')\n",
        "nltk.download('punkt_tab')"
      ]
    },
    {
      "cell_type": "code",
      "source": [
        "#@markdown #### 🐹 **Student's Activity 1** ⤵️\n",
        "#@markdown 👀🐾 **Call <font color = 'red'> sent_tokenize() </font> function**\n",
        "\n",
        "#@markdown 🔎 **Exercise for Various Periods**\n",
        "\n",
        "message = \"I'm actively looking for Ph.D. students, \\\n",
        "and you are a Ph.D student. \\\n",
        "Visit IP 192.168.56.31 \\\n",
        "and send the results to my email account. \\\n",
        "It's python@gmail.com.\"\n",
        "\n",
        "from nltk.tokenize import sent_tokenize\n",
        "sentence = sent_tokenize(message)\n",
        "print('문장 토큰화: %s' %sentence)"
      ],
      "metadata": {
        "colab": {
          "base_uri": "https://localhost:8080/"
        },
        "id": "an0OYNgqO7jT",
        "outputId": "9d9ca2c9-47bf-4dd9-aea9-955649b46e17"
      },
      "execution_count": 4,
      "outputs": [
        {
          "output_type": "stream",
          "name": "stdout",
          "text": [
            "문장 토큰화: [\"I'm actively looking for Ph.D. students, and you are a Ph.D student.\", 'Visit IP 192.168.56.31 and send the results to my email account.', \"It's python@gmail.com.\"]\n"
          ]
        }
      ]
    },
    {
      "cell_type": "markdown",
      "source": [
        "#📕 **Children's Picture Books**\n",
        "###[**Project Gutenberg**](https://gutenberg.org/)\n",
        "- **Beatrix Potter: Search by 'Beatrix Potter'**\n",
        "    - **The Tale of Peter Rabit**\n",
        "    - **The Tale of Benjamin Bunny**\n",
        "    - **The Tale of Jemima Puddle-Duck**\n",
        "    - **The Tale of Mrs. Tiggy-Winckle**\n",
        "    - **The Tale of Squirrel Nutkin**\n",
        "    - **The Tale of Tom Kitten**\n",
        "\n",
        "- **Leslie Brooke: Search by 'Leslie Brooke'**\n",
        "    - **The Tailor and the Crow**\n",
        "    - **The Golden Goose Book**\n",
        "    - **Jonny Crow's Garden**\n",
        "    - **A Nursery Rhyme Picture Book**"
      ],
      "metadata": {
        "id": "0UTAGmXhQYxL"
      }
    },
    {
      "cell_type": "markdown",
      "source": [
        "##**Step 1**\n",
        "\n",
        "- **For each volume, take a look at a published version with the tab, \"READ NOW.\"**\n",
        "- **Download UTF-8 on your machine**\n",
        "- **Open your 메모장 or TextEdit.**\n",
        "- **Save it as plain text.**\n"
      ],
      "metadata": {
        "id": "yZPWK2xrCt9d"
      }
    },
    {
      "cell_type": "markdown",
      "source": [
        "## **Step 2**\n",
        "- Make a folder on your Github repository with a new name \"Data_Plain\"\n",
        "- Upload"
      ],
      "metadata": {
        "id": "gGi0xVVAEIlo"
      }
    },
    {
      "cell_type": "markdown",
      "source": [
        "# <font color = 'red'> 🐹🐾 **Final Script to prepare input text for further analysis (e.g., Common Core Words, Wordcloud, Lexical Diversity, etc.)**\n",
        "\n",
        "  - # <font color = 'blue'> 🐹🐾 **Important & Useful!**\n",
        "  - ### **This script will be based on plain text for 10 volumes above.**"
      ],
      "metadata": {
        "id": "PJBX5Gq56JnR"
      }
    }
  ]
}